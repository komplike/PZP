{
  "nbformat": 4,
  "nbformat_minor": 0,
  "metadata": {
    "colab": {
      "name": "10_Exercise.ipynb",
      "provenance": [],
      "collapsed_sections": [
        "kvD4HBMi0ohY",
        "7y556PFwmrOJ"
      ]
    },
    "kernelspec": {
      "name": "python3",
      "display_name": "Python 3"
    }
  },
  "cells": [
    {
      "cell_type": "markdown",
      "metadata": {
        "id": "kvD4HBMi0ohY"
      },
      "source": [
        "# Install Java, Spark, and Findspark\n",
        "This installs Apache Spark 3.0.1, Java 11, and [Findspark](https://github.com/minrk/findspark), a library that makes it easy for Python to find Spark."
      ]
    },
    {
      "cell_type": "code",
      "metadata": {
        "id": "fUhBhrGmyAvs",
        "colab": {
          "base_uri": "https://localhost:8080/"
        },
        "outputId": "698c4323-a364-403b-facf-d2dfa90aadb7"
      },
      "source": [
        "!apt-get install openjdk-11-jdk-headless -qq > /dev/null\n",
        "!wget http://www-eu.apache.org/dist/spark/spark-3.0.1/spark-3.0.1-bin-hadoop2.7.tgz\n",
        "!tar xf spark-3.0.1-bin-hadoop2.7.tgz\n",
        "!pip install findspark\n",
        "!pip install py4j\n",
        "import os\n",
        "os.environ[\"JAVA_HOME\"] = \"/usr/lib/jvm/java-11-openjdk-amd64\"\n",
        "os.environ[\"SPARK_HOME\"] = \"/content/spark-3.0.1-bin-hadoop2.7\"\n",
        "import findspark\n",
        "findspark.init()\n",
        "print(\"Initialization Finished.\")\n",
        "# !cat /proc/meminfo\n",
        "# !cat /proc/cpuinfo"
      ],
      "execution_count": null,
      "outputs": [
        {
          "output_type": "stream",
          "text": [
            "--2020-11-10 09:09:35--  http://www-eu.apache.org/dist/spark/spark-3.0.1/spark-3.0.1-bin-hadoop2.7.tgz\n",
            "Resolving www-eu.apache.org (www-eu.apache.org)... 95.216.24.32, 2a01:4f9:2a:185f::2\n",
            "Connecting to www-eu.apache.org (www-eu.apache.org)|95.216.24.32|:80... connected.\n",
            "HTTP request sent, awaiting response... 302 Found\n",
            "Location: https://downloads.apache.org/spark/spark-3.0.1/spark-3.0.1-bin-hadoop2.7.tgz [following]\n",
            "--2020-11-10 09:09:36--  https://downloads.apache.org/spark/spark-3.0.1/spark-3.0.1-bin-hadoop2.7.tgz\n",
            "Resolving downloads.apache.org (downloads.apache.org)... 88.99.95.219, 2a01:4f8:10a:201a::2\n",
            "Connecting to downloads.apache.org (downloads.apache.org)|88.99.95.219|:443... connected.\n",
            "HTTP request sent, awaiting response... 200 OK\n",
            "Length: 219929956 (210M) [application/x-gzip]\n",
            "Saving to: ‘spark-3.0.1-bin-hadoop2.7.tgz’\n",
            "\n",
            "spark-3.0.1-bin-had 100%[===================>] 209.74M  9.75MB/s    in 23s     \n",
            "\n",
            "2020-11-10 09:10:00 (9.21 MB/s) - ‘spark-3.0.1-bin-hadoop2.7.tgz’ saved [219929956/219929956]\n",
            "\n",
            "Collecting findspark\n",
            "  Downloading https://files.pythonhosted.org/packages/fc/2d/2e39f9a023479ea798eed4351cd66f163ce61e00c717e03c37109f00c0f2/findspark-1.4.2-py2.py3-none-any.whl\n",
            "Installing collected packages: findspark\n",
            "Successfully installed findspark-1.4.2\n",
            "Collecting py4j\n",
            "\u001b[?25l  Downloading https://files.pythonhosted.org/packages/30/42/25ad191f311fcdb38b750d49de167abd535e37a144e730a80d7c439d1751/py4j-0.10.9.1-py2.py3-none-any.whl (198kB)\n",
            "\u001b[K     |████████████████████████████████| 204kB 2.8MB/s \n",
            "\u001b[?25hInstalling collected packages: py4j\n",
            "Successfully installed py4j-0.10.9.1\n",
            "Initialization Finished.\n"
          ],
          "name": "stdout"
        }
      ]
    },
    {
      "cell_type": "markdown",
      "metadata": {
        "id": "7y556PFwmrOJ"
      },
      "source": [
        "#Hold connection\n",
        "While not using sheet, you should start infinite loop function to hold session. If you want to execute another code, please interupt this function."
      ]
    },
    {
      "cell_type": "code",
      "metadata": {
        "id": "rDgSoFLBm_Oe"
      },
      "source": [
        "import time\n",
        "try:\n",
        "  while 1:\n",
        "    time.sleep(10)\n",
        "except:\n",
        "  pass"
      ],
      "execution_count": null,
      "outputs": []
    },
    {
      "cell_type": "markdown",
      "metadata": {
        "id": "su6ffxh0NuvR"
      },
      "source": [
        "#Upload Files"
      ]
    },
    {
      "cell_type": "code",
      "metadata": {
        "id": "zSU363E936AR",
        "colab": {
          "resources": {
            "http://localhost:8080/nbextensions/google.colab/files.js": {
              "data": "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",
              "ok": true,
              "headers": [
                [
                  "content-type",
                  "application/javascript"
                ]
              ],
              "status": 200,
              "status_text": ""
            }
          },
          "base_uri": "https://localhost:8080/",
          "height": 73
        },
        "outputId": "4e171020-b5a4-4bc8-bedd-148ca6aae7cd"
      },
      "source": [
        "from google.colab import files\n",
        "uploaded = files.upload()"
      ],
      "execution_count": null,
      "outputs": [
        {
          "output_type": "display_data",
          "data": {
            "text/html": [
              "\n",
              "     <input type=\"file\" id=\"files-902b216c-270e-4f46-aea5-e98a88c6e7b4\" name=\"files[]\" multiple disabled\n",
              "        style=\"border:none\" />\n",
              "     <output id=\"result-902b216c-270e-4f46-aea5-e98a88c6e7b4\">\n",
              "      Upload widget is only available when the cell has been executed in the\n",
              "      current browser session. Please rerun this cell to enable.\n",
              "      </output>\n",
              "      <script src=\"/nbextensions/google.colab/files.js\"></script> "
            ],
            "text/plain": [
              "<IPython.core.display.HTML object>"
            ]
          },
          "metadata": {
            "tags": []
          }
        },
        {
          "output_type": "stream",
          "text": [
            "Saving documents.txt to documents.txt\n"
          ],
          "name": "stdout"
        }
      ]
    },
    {
      "cell_type": "code",
      "metadata": {
        "id": "PypPGUn3HIXv"
      },
      "source": [
        "import os\n",
        "os.listdir('./')"
      ],
      "execution_count": null,
      "outputs": []
    },
    {
      "cell_type": "markdown",
      "metadata": {
        "id": "fS8qOkxO6a-Q"
      },
      "source": [
        "#Exercise"
      ]
    },
    {
      "cell_type": "code",
      "metadata": {
        "id": "T1qrLN1-5YVM"
      },
      "source": [
        "from pyspark.ml.evaluation import ClusteringEvaluator\n",
        "from pyspark.sql import SQLContext, SparkSession\n",
        "from pyspark import SparkConf, SparkContext\n",
        "from pyspark.ml.clustering import KMeans\n",
        "from pyspark.ml.feature import Word2Vec\n",
        "from pyspark.sql.functions import *\n",
        "\n",
        "sc=SparkContext.getOrCreate()\n",
        "sqlContext = SQLContext(sc)\n",
        "\n",
        "documents = sqlContext.read.format(\"csv\").option(\"header\", \"true\").load(\"documents.txt\")\n",
        "\n",
        "documents.show(10, False)\n",
        "# To lower and split by space\n",
        "documents = documents.withColumn(\"text_splitted\", .....)\n",
        "# Word2Vec\n",
        "word2Vec = Word2Vec(....., outputCol=\"features\")\n",
        "# Train word model\n",
        "model = word2Vec.fit(.....)\n",
        "result = model.transform(.....)\n",
        "result.show(10, False)\n",
        "\n",
        "# Find synonyms to word 'sun'\n",
        "synonyms = model. .....\n",
        "synonyms.show(truncate=False)\n",
        "\n",
        "# KMeans Clustering\n",
        "numIterations = 200\n",
        "numberClusters = 2\n",
        "kmeans = KMeans(). .....\n",
        "#  Train model\n",
        "kmeans_model = kmeans. ...\n",
        "\n",
        "# Make predictions\n",
        "predictions = kmeans_model. .....\n",
        "predictions.show()\n",
        "\n",
        "sc.stop()"
      ],
      "execution_count": null,
      "outputs": []
    },
    {
      "cell_type": "markdown",
      "metadata": {
        "id": "Regdp59Z6eF3"
      },
      "source": [
        "#Solution"
      ]
    },
    {
      "cell_type": "code",
      "metadata": {
        "id": "N-g1Mibv73yR",
        "colab": {
          "base_uri": "https://localhost:8080/"
        },
        "outputId": "d2815cf4-c9df-4446-af09-f789936b21eb"
      },
      "source": [
        "from pyspark.ml.evaluation import ClusteringEvaluator\n",
        "from pyspark.sql import SQLContext, SparkSession\n",
        "from pyspark import SparkConf, SparkContext\n",
        "from pyspark.ml.clustering import KMeans\n",
        "from pyspark.ml.feature import Word2Vec\n",
        "from pyspark.sql.functions import *\n",
        "\n",
        "sc=SparkContext.getOrCreate()\n",
        "sqlContext = SQLContext(sc)\n",
        "\n",
        "documents = sqlContext.read.format(\"csv\").option(\"header\", \"true\").load(\"documents.txt\")\n",
        "\n",
        "documents.show(10, False)\n",
        "# To lower and split by space\n",
        "documents = documents.withColumn(\"text_splitted\", split(lower(col(\"text\")), \" \"))\n",
        "# Word2Vec\n",
        "word2Vec = Word2Vec(vectorSize=100, minCount=0, maxIter=100, inputCol=\"text_splitted\", outputCol=\"features\")\n",
        "# Train word model\n",
        "model = word2Vec.fit(documents)\n",
        "result = model.transform(documents)\n",
        "result.show(10, False)\n",
        "\n",
        "# Find synonyms to word 'sun'\n",
        "synonyms = model.findSynonyms('sun', 5)\n",
        "synonyms.show(truncate=False)\n",
        "\n",
        "# KMeans Clustering\n",
        "numIterations = 200\n",
        "numberClusters = 2\n",
        "kmeans = KMeans().setMaxIter(numIterations).setK(numberClusters).setSeed(1)\n",
        "kmeans_model = kmeans.fit(result)\n",
        "\n",
        "# Make predictions\n",
        "predictions = kmeans_model.transform(result)\n",
        "predictions.show()\n",
        "\n",
        "sc.stop()"
      ],
      "execution_count": null,
      "outputs": [
        {
          "output_type": "stream",
          "text": [
            "+-------------------------------+\n",
            "|text                           |\n",
            "+-------------------------------+\n",
            "|The sun is a star              |\n",
            "|The earth is a planet          |\n",
            "|The moon is a satellite’s earth|\n",
            "|The sun is yellow              |\n",
            "|The car is parking outside     |\n",
            "|House is in forest             |\n",
            "+-------------------------------+\n",
            "\n",
            "+-------------------------------+--------------------------------------+----------------------------------------------------------------------------------------------------------------------------------------------------------------------------------------------------------------------------------------------------------------------------------------------------------------------------------------------------------------------------------------------------------------------------------------------------------------------------------------------------------------------------------------------------------------------------------------------------------------------------------------------------------------------------------------------------------------------------------------------------------------------------------------------------------------------------------------------------------------------------------------------------------------------------------------------------------------------------------------------------------------------------------------------------------------------------------------------------------------------------------------------------------------------------------------------------------------------------------------------------------------------------------------------------------------------------------------------------------------------------------------------------------------------------------------------------------------------------------------------------------------------------------------------------------------------------------------------------------------------------------------------------------------------------------------------------------------------------------------------------------------------------------------------------------------------------------------------------------------------------------------------------------------------------------------------------------------------------------------------------------------------------------------------------------------------------------------------------------------------------------------------------------------------------------------------+\n",
            "|text                           |text_splitted                         |features                                                                                                                                                                                                                                                                                                                                                                                                                                                                                                                                                                                                                                                                                                                                                                                                                                                                                                                                                                                                                                                                                                                                                                                                                                                                                                                                                                                                                                                                                                                                                                                                                                                                                                                                                                                                                                                                                                                                                                                                                                                                                                                                                                                      |\n",
            "+-------------------------------+--------------------------------------+----------------------------------------------------------------------------------------------------------------------------------------------------------------------------------------------------------------------------------------------------------------------------------------------------------------------------------------------------------------------------------------------------------------------------------------------------------------------------------------------------------------------------------------------------------------------------------------------------------------------------------------------------------------------------------------------------------------------------------------------------------------------------------------------------------------------------------------------------------------------------------------------------------------------------------------------------------------------------------------------------------------------------------------------------------------------------------------------------------------------------------------------------------------------------------------------------------------------------------------------------------------------------------------------------------------------------------------------------------------------------------------------------------------------------------------------------------------------------------------------------------------------------------------------------------------------------------------------------------------------------------------------------------------------------------------------------------------------------------------------------------------------------------------------------------------------------------------------------------------------------------------------------------------------------------------------------------------------------------------------------------------------------------------------------------------------------------------------------------------------------------------------------------------------------------------------+\n",
            "|The sun is a star              |[the, sun, is, a, star]               |[-0.0022807298228144646,-7.31869786977768E-4,-0.07118850648403167,-0.0076469889841973785,-0.03341226801276207,-0.011691343784332276,0.05693392790853977,-0.008754509314894677,0.09073432832956314,-0.03417872115969658,0.08659745901823045,-0.044046998023986816,0.06814775057137012,-0.03147533796727658,0.012382950074970723,-0.027519056387245656,0.06908534541726112,0.015356054087169469,0.03956976179033518,0.05713631063699723,0.009160834550857545,-0.03683251971378922,0.01423642821609974,-0.0289348840713501,-0.0675766408443451,0.003304490353912115,-0.054891605302691465,-0.04529449567198754,-0.10966905355453492,0.04000485092401505,-0.09411170557141305,-0.014813474565744401,0.036272332072257996,0.020352666825056077,-0.0018553722649812699,-0.0891350444406271,-0.040565850958228115,-0.04297616966068745,0.024230628809891644,-0.06388594061136246,-0.07876701019704342,-0.08493175730109215,0.04193565100431443,0.0776849702000618,0.037346291542053225,0.03863709717988968,0.06899243816733361,0.04078717008233071,6.090231239795686E-4,0.044737792760133746,-0.017371696466580034,-0.08518010824918748,-0.04651099604088813,0.06468948721885681,-0.004298254102468491,0.06846996617969126,-0.011766458628699183,-0.03420878350734711,-0.05261599868535996,-0.026739995554089548,-0.06569287627935409,0.056253297626972204,0.07595722498372198,0.032592393271625046,0.009505073353648186,9.021349251270294E-4,0.07719276864081621,0.0691016137599945,0.11786360442638398,-0.0257803762331605,-0.056291298009455204,-0.08369804099202156,-0.07375556826591492,-0.05443587712943554,-2.113565802574158E-4,-0.002930988185107708,-0.052995797246694565,0.06322373412549497,-0.00938546359539032,-0.024852527654729784,-0.01115519255399704,-0.03961124606430531,0.06963341012597084,-0.009835208207368851,-0.030858970247209072,-0.03261658325791359,0.0028281807899475098,0.07762617841362954,-0.05623575355857611,-0.062024606764316564,-0.014809749461710453,-0.015467406809329988,0.056357753649353984,0.0032526031136512756,-0.06171064078807831,-0.03391501754522324,0.05255608297884465,-0.011775369942188264,0.03827356025576592,0.016456260904669763]          |\n",
            "|The earth is a planet          |[the, earth, is, a, planet]           |[0.02827838622033596,0.003775850683450699,-0.09081026315689088,-0.015942141972482206,-0.008737704157829285,-0.01591782495379448,0.06423885561525822,-0.009112246334552765,0.11627789363265038,-0.02731524109840393,0.11077989712357522,-0.05664219707250595,0.0816283866763115,-0.042555883154273035,0.011136155016720295,-0.05070067662745714,0.07623482793569565,0.021921655465848747,0.04668527487665415,0.04770202040672303,0.018228434212505817,-0.04465813441202045,0.01347012221813202,-0.01676841308362782,-0.08484221044927837,-0.0023498804308474067,-0.054467311874032025,-0.041712377406656745,-0.10572988912463188,0.06054730191826821,-0.12406444549560547,-0.009133502608165145,0.048874670267105104,0.04620468467473984,-0.005717584863305092,-0.11157738193869592,-0.055433022603392605,-0.0633405058644712,0.03172316560521722,-0.07803048342466355,-0.0882074236869812,-0.07623028308153153,0.0541090440005064,0.07260806355625392,0.05701483506709337,0.031218848377466205,0.08009346090257169,0.03646760326810181,-0.01782470680773258,0.02739834487438202,-0.02891843654215336,-0.10457660183310509,-0.037192781642079356,0.07565945684909821,-0.010460405051708222,0.06471440307796002,-0.018161119520664216,-0.02607504576444626,-0.05838262587785721,-0.03852886557579041,-0.06082172761671245,0.05116842538118363,0.08348100678995252,0.04182535065338016,-0.010294615104794503,-0.010415513068437576,0.0867707759141922,0.08663701824843884,0.14267097339034082,-0.021037242782767862,-0.0475624012760818,-0.09031890332698822,-0.0775285691022873,-0.05021932562813163,0.014023475348949432,0.010780070163309575,-0.05141359940171242,0.09298147456720472,-0.02711009252816439,-0.03874167723115534,0.005465282499790192,-0.054750664532184606,0.08630009740591049,-0.006338828057050706,-0.028913484513759614,-0.025742160808295014,-0.006500773131847382,0.0940551169216633,-0.058863969147205354,-0.07022044211626054,-0.015793381817638875,-0.01591622829437256,0.08354850821197034,0.013909731432795525,-0.08012079745531082,-0.03146382868289948,0.052397528663277626,0.008952364325523376,0.020685236901044846,0.006842684373259545]                       |\n",
            "|The moon is a satellite’s earth|[the, moon, is, a, satellite’s, earth]|[0.038078351256748036,8.606964644665519E-4,-0.11848817765712738,-0.006762077721456686,-0.00673470397790273,-0.013989855845769245,0.0662012119234229,-0.016067729021112122,0.12397028071184953,-0.016417283564805984,0.119779742633303,-0.05509732042749722,0.08328699382642904,-0.06328539022554953,0.03345303004607558,-0.05906555941328406,0.08908351138234138,0.018934039360222716,0.053085679188370705,0.03789301379583776,0.01736292987576841,-0.04386214826566477,0.0031053833663463593,-0.021496927249245346,-0.08058130818729599,-0.0016471328369031348,-0.07473608509947856,-0.049774548814942435,-0.10366856927673021,0.050746396804849304,-0.13649886722366014,-0.013217555785862107,0.07186291366815567,0.051351578906178474,-0.01583644033720096,-0.11830698947111765,-0.08784864315142234,-0.049563957999149956,0.029751579626463354,-0.12070554122328758,-0.08506592673559983,-0.07267282592753568,0.0562637560069561,0.0789326117374003,0.0551171467329065,0.04429821173350016,0.08438539939622083,0.05069359950721264,-0.006928471227486928,0.04933814580241839,-0.036790672379235424,-0.12243746407330036,-0.036741574915746845,0.09650741765896478,0.013284619897603989,0.06745433411560953,-0.03234913448492686,-0.052614476531744,-0.044874103739857674,-0.02719552877048651,-0.06971340684685856,0.05998382026640077,0.09885429629745582,0.038064791122451425,-0.007802723906934261,-0.023194062833984692,0.08963717675457397,0.0911551664272944,0.15246528076628843,-0.023827272651639454,-0.05822053380931417,-0.09024507614473501,-0.08663466013967991,-0.05909737416853507,0.01078588298211495,0.010049711136768261,-0.06270457617938519,0.09348419300901392,-0.027512513877203066,-0.029367431978850313,0.02436693633596102,-0.0656772976120313,0.11180733516812325,-0.028953715537985165,-0.028298338254292805,-0.03478996168511609,-0.025902695953845978,0.11304789843658605,-0.05810538865625858,-0.057893684754769005,-0.021837766747921705,-0.018588346429169178,0.08652823511511087,0.00840211062071224,-0.09760857994357744,-0.04912138544023037,0.04518495096514622,0.016128393510977425,0.02799510893722375,0.02820832080518206]                          |\n",
            "|The sun is yellow              |[the, sun, is, yellow]                |[-0.02574405469931662,-0.014624356292188168,-0.03753196820616722,-0.002954147639684379,-0.027266788762062788,-0.01102195680141449,0.03641773131676018,0.007221869193017483,0.06818747706711292,-0.03908324660733342,0.064875359646976,-0.028262551873922348,0.04975259490311146,-0.02278057485818863,0.002764762844890356,-0.023367576533928514,0.041884053498506546,0.006737391842762008,0.021421144250780344,0.05584866087883711,0.0037154493620619178,-0.026267713983543217,0.02054344257339835,-0.021517286077141762,-0.06405333615839481,0.011642206460237503,-0.02819423796609044,-0.04838190833106637,-0.08668523002415895,0.037602707743644714,-0.07025647722184658,-0.024528127629309893,0.0024593304842710495,-1.871967688202858E-4,0.016257317271083593,-0.05672782193869352,-0.02172048669308424,-0.04189065471291542,0.020190533890854567,-0.03518127277493477,-0.059338976396247745,-0.07360931485891342,0.037689538672566414,0.06608825782313943,0.03920337837189436,0.019534599967300892,0.05934610031545162,0.027766089886426926,0.0030266297981142998,0.026997060514986515,0.008795492351055145,-0.059429679065942764,-0.040286674426170066,0.029271256178617477,-0.0036985832266509533,0.04347272400627844,0.011314376490190625,-0.021319204941391945,-0.05656672455370426,-0.018595116212964058,-0.06292649265378714,0.033608490601181984,0.0482072081649676,0.020270923152565956,0.02641134476289153,0.009072661399841309,0.04837147262878716,0.04481440223753452,0.08721210854128003,-0.01605791226029396,-0.040653827833011746,-0.04800583980977535,-0.05550495535135269,-0.0396413286216557,-0.003957417327910662,-0.009037844836711884,-0.05972304381430149,0.04508747672662139,0.011112522333860397,-0.014946279319701716,-0.02777254395186901,-0.023216637317091227,0.038917386904358864,-0.00880771316587925,-0.021955082193017006,-0.033665116876363754,0.028284357860684395,0.06146168056875467,-0.03887821966782212,-0.04259049333631992,0.0062230590265244246,0.001472759060561657,0.03252905374392867,-0.0015293109463527799,-0.04962163511663675,-0.031418800354003906,0.05253094993531704,-0.006996210664510727,0.038831818383187056,0.0022094924934208393]|\n",
            "|The car is parking outside     |[the, car, is, parking, outside]      |[-0.10642765611410142,0.011058915127068759,0.14210714101791383,-0.021578257507644596,-0.06715766116976739,-0.008198590949177742,0.018825479014776648,0.03153363359160721,-0.020312103629112246,-0.08419879227876664,-0.05012472271919251,0.01134677454829216,0.004313953220844269,0.1087601199746132,-0.0737063966691494,0.058961923234164715,-0.02938421331346035,0.026190226455219092,0.0030499700456857685,0.10534484013915063,-0.014055198058485985,-0.0266406549140811,0.0506675117649138,-0.02757849842309952,-0.009247151017189027,0.0088748998939991,0.05667764730751515,-0.020110629498958588,-0.06535214204341173,0.01884250044822693,0.016502447426319122,-0.02501743610482663,-0.061046257615089417,-0.05807818323373795,0.07147152796387672,0.023615722358226777,0.11951535493135453,-0.020017589628696444,0.0016228449996560812,0.1286480836570263,-0.05342235527932644,-0.07751466063782574,-0.0379724245518446,0.051659137755632405,-9.573206305503846E-4,-0.032383898831903936,-0.010027164220809938,-0.0061870176345109945,0.013877883553504944,-0.041838621255010366,0.021565572544932368,0.0732285164296627,-0.03000692017376423,-0.08886396363377572,-0.07284318297170103,0.046990673243999484,0.053615902364254,0.09222758878022433,-0.05054507404565811,-0.0293931158259511,-0.03515823092311621,0.0019415080547332765,-0.05517414314672351,0.01133719407953322,0.05913670510053635,0.10404561311006547,0.0027878135442733765,-1.3452768325805665E-5,-0.037163561582565306,-7.177669554948807E-4,-0.02705246638506651,-0.01828528754413128,0.02901618182659149,0.002899897657334805,-0.012610455602407457,-0.035188338905572894,0.0073363296687603,-0.022063758969306946,0.05308990925550461,-0.050493667996488516,-0.08627360900864006,0.05302028730511665,-0.08014583885669709,0.06128536276519299,-0.002205590903759003,0.010482653602957727,0.08922653160989286,-0.06991929560899734,-0.009892424196004869,-0.046313249692320826,0.012826522998511792,0.012657984904944897,-0.05398394875228405,0.02156931106001139,0.09030410051345826,0.03959303423762322,0.06775539666414261,-0.07550510615110398,0.02884444445371628,-0.036048798076808455]                    |\n",
            "|House is in forest             |[house, is, in, forest]               |[-0.12108359765261412,0.02348008006811142,0.2707481049001217,-0.0032634278759360313,-0.07902016211301088,0.04408897878602147,-0.032774316146969795,0.06527894223108888,-0.12172595411539078,-0.03653738455614075,-0.1612905003130436,0.07753591611981392,-0.06767027825117111,0.19471757486462593,-0.09056153986603022,0.13240674301050603,-0.1273679304867983,0.003859869815642014,-0.0555322514846921,0.04478272813139483,-0.03573680901899934,0.014964603818953037,0.046125294305966236,0.01867438922636211,0.06239384040236473,-0.05796086648479104,0.12324233725667,0.047485100105404854,0.02568092430010438,-0.02299647033214569,0.1632753238081932,0.003957668319344521,-0.13173929788172245,-0.04065688140690327,0.061750126362312585,0.0981227420270443,0.1818352658301592,-0.014117540791630745,-0.014784236438572407,0.2685920912772417,0.026072757318615913,0.012004238553345203,-0.05032697692513466,-0.05025266483426094,-0.08423478901386261,-0.06822051014751196,-0.08214389905333519,-0.0454071843996644,-0.00957592556369491,-0.12180592305958271,0.04694157047197223,0.143205214291811,-0.011463174130767584,-0.19837259128689766,-0.06609604321420193,-0.020455262856557965,0.03005051362561062,0.14405442029237747,-0.01024543959647417,-0.030710267135873437,0.10560347698628902,-0.05998954828828573,-0.10564287938177586,-0.030823820270597935,0.042616934166289866,0.15204831585288048,-0.08547572791576385,-0.06568663008511066,-0.16625721380114555,0.03983751009218395,0.07233279920183122,0.10559847671538591,0.16123524121940136,0.034431434236466885,-0.020970605546608567,-0.061731070396490395,0.09284309670329094,-0.10003433004021645,0.08712597284466028,0.006595131795620546,-0.12940572388470173,0.17291919142007828,-0.1262323148548603,0.13298828341066837,0.041337866423418745,0.07702293712645769,0.09265288128517568,-0.14606571942567825,0.04351674346253276,-0.040617183316498995,0.010850675869733095,0.047616477590054274,-0.11075651971623302,0.010171915404498577,0.16842389479279518,0.06249658018350601,0.01946667954325676,-0.11452282592654228,0.013672729954123497,-0.045947072096168995]                                               |\n",
            "+-------------------------------+--------------------------------------+----------------------------------------------------------------------------------------------------------------------------------------------------------------------------------------------------------------------------------------------------------------------------------------------------------------------------------------------------------------------------------------------------------------------------------------------------------------------------------------------------------------------------------------------------------------------------------------------------------------------------------------------------------------------------------------------------------------------------------------------------------------------------------------------------------------------------------------------------------------------------------------------------------------------------------------------------------------------------------------------------------------------------------------------------------------------------------------------------------------------------------------------------------------------------------------------------------------------------------------------------------------------------------------------------------------------------------------------------------------------------------------------------------------------------------------------------------------------------------------------------------------------------------------------------------------------------------------------------------------------------------------------------------------------------------------------------------------------------------------------------------------------------------------------------------------------------------------------------------------------------------------------------------------------------------------------------------------------------------------------------------------------------------------------------------------------------------------------------------------------------------------------------------------------------------------------+\n",
            "\n",
            "+------+------------------+\n",
            "|word  |similarity        |\n",
            "+------+------------------+\n",
            "|moon  |0.8411452770233154|\n",
            "|earth |0.7836765050888062|\n",
            "|planet|0.421461284160614 |\n",
            "|yellow|0.3537609875202179|\n",
            "|car   |0.3029597997665405|\n",
            "+------+------------------+\n",
            "\n",
            "+--------------------+--------------------+--------------------+----------+\n",
            "|                text|       text_splitted|            features|prediction|\n",
            "+--------------------+--------------------+--------------------+----------+\n",
            "|   The sun is a star|[the, sun, is, a,...|[-0.0022807298228...|         0|\n",
            "|The earth is a pl...|[the, earth, is, ...|[0.02827838622033...|         0|\n",
            "|The moon is a sat...|[the, moon, is, a...|[0.03807835125674...|         0|\n",
            "|   The sun is yellow|[the, sun, is, ye...|[-0.0257440546993...|         0|\n",
            "|The car is parkin...|[the, car, is, pa...|[-0.1064276561141...|         1|\n",
            "|  House is in forest|[house, is, in, f...|[-0.1210835976526...|         1|\n",
            "+--------------------+--------------------+--------------------+----------+\n",
            "\n"
          ],
          "name": "stdout"
        }
      ]
    }
  ]
}