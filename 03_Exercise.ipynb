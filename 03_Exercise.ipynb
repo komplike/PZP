{
  "nbformat": 4,
  "nbformat_minor": 0,
  "metadata": {
    "colab": {
      "name": "03_Exercise.ipynb",
      "provenance": [],
      "collapsed_sections": []
    },
    "kernelspec": {
      "name": "python3",
      "display_name": "Python 3"
    },
    "accelerator": "GPU"
  },
  "cells": [
    {
      "cell_type": "markdown",
      "metadata": {
        "id": "RwTtykOkPNP2"
      },
      "source": [
        "#Install dependency"
      ]
    },
    {
      "cell_type": "code",
      "metadata": {
        "id": "B5fbFqjP6TDx",
        "colab": {
          "base_uri": "https://localhost:8080/"
        },
        "outputId": "cfbc9921-6d33-485d-e308-228e34878059"
      },
      "source": [
        "!pip install pycuda"
      ],
      "execution_count": 2,
      "outputs": [
        {
          "output_type": "stream",
          "name": "stdout",
          "text": [
            "Collecting pycuda\n",
            "  Downloading pycuda-2021.1.tar.gz (1.7 MB)\n",
            "\u001b[K     |████████████████████████████████| 1.7 MB 12.6 MB/s \n",
            "\u001b[?25h  Installing build dependencies ... \u001b[?25l\u001b[?25hdone\n",
            "  Getting requirements to build wheel ... \u001b[?25l\u001b[?25hdone\n",
            "    Preparing wheel metadata ... \u001b[?25l\u001b[?25hdone\n",
            "Collecting pytools>=2011.2\n",
            "  Downloading pytools-2021.2.8.tar.gz (63 kB)\n",
            "\u001b[K     |████████████████████████████████| 63 kB 2.0 MB/s \n",
            "\u001b[?25hRequirement already satisfied: appdirs>=1.4.0 in /usr/local/lib/python3.7/dist-packages (from pycuda) (1.4.4)\n",
            "Collecting mako\n",
            "  Downloading Mako-1.1.5-py2.py3-none-any.whl (75 kB)\n",
            "\u001b[K     |████████████████████████████████| 75 kB 4.8 MB/s \n",
            "\u001b[?25hRequirement already satisfied: numpy>=1.6.0 in /usr/local/lib/python3.7/dist-packages (from pytools>=2011.2->pycuda) (1.19.5)\n",
            "Requirement already satisfied: MarkupSafe>=0.9.2 in /usr/local/lib/python3.7/dist-packages (from mako->pycuda) (2.0.1)\n",
            "Building wheels for collected packages: pycuda, pytools\n",
            "  Building wheel for pycuda (PEP 517) ... \u001b[?25l\u001b[?25hdone\n",
            "  Created wheel for pycuda: filename=pycuda-2021.1-cp37-cp37m-linux_x86_64.whl size=626972 sha256=1d8196a38656b340f48c8e1dfbdc5c16256e52f316a4f5cf4b12ae70c14e244d\n",
            "  Stored in directory: /root/.cache/pip/wheels/c4/ef/49/dc6a5feb8d980b37c83d465ecab24949a6aa19458522a9e001\n",
            "  Building wheel for pytools (setup.py) ... \u001b[?25l\u001b[?25hdone\n",
            "  Created wheel for pytools: filename=pytools-2021.2.8-py2.py3-none-any.whl size=60725 sha256=ce6332a0b76a34221bfb26e29ac811886c6801d4927154fe92c6aee48d7824dd\n",
            "  Stored in directory: /root/.cache/pip/wheels/bd/2d/ef/0127a17bafa44971f11d05d0e38d7947144cf9e33313bf12a7\n",
            "Successfully built pycuda pytools\n",
            "Installing collected packages: pytools, mako, pycuda\n",
            "Successfully installed mako-1.1.5 pycuda-2021.1 pytools-2021.2.8\n"
          ]
        }
      ]
    },
    {
      "cell_type": "markdown",
      "metadata": {
        "id": "2NsLyITy7T-e"
      },
      "source": [
        "#Exercise"
      ]
    },
    {
      "cell_type": "code",
      "metadata": {
        "id": "3olq32SdTSat"
      },
      "source": [
        "# create 3x 1D integer (int32) array with 1M items\n",
        "# A array - contains items from 1 to 1M\n",
        "# B array - contains items from 1 to 1M\n",
        "# C array - contains random items in range (0-100)\n",
        "# Operations with arrays - Output = A * C - B - do operations with corresponding indexes\n",
        "# create CPU function for this operations called 'cpu_processing'\n",
        "# create GPU kernel with function called 'gpu_processing'\n",
        "# dimension of block size have to be power of 2 (e.g. 64, 128, 256)\n",
        "# measure computational times for CPU a GPU function \n",
        "# print last ten items from output CPU and GPU array"
      ],
      "execution_count": null,
      "outputs": []
    },
    {
      "cell_type": "code",
      "metadata": {
        "id": "HOyyuuXB5maT"
      },
      "source": [
        "import time\n",
        "import pycuda.driver as cuda\n",
        "import pycuda.autoinit\n",
        "from pycuda.autoinit import context\n",
        "from pycuda.compiler import SourceModule\n",
        "import numpy\n",
        "import random\n",
        "\n",
        "from pycuda.compiler import SourceModule\n",
        "mod = SourceModule(...)\n",
        "\n",
        "def cpu_processing(A, B, C):\n",
        "  # Output = A * C - B\n",
        " ...\n",
        "  return Output\n",
        "\n",
        "# array dimensions\n",
        "numElements = ...\n",
        "\n",
        "gpu_processing = mod.get_function(...)\n",
        "\n",
        "a = ...\n",
        "b = ...\n",
        "c = ...\n",
        "\n",
        "dest = numpy.empty_like(a)\n",
        "\n",
        "for i in range(0, numElements):\n",
        "  # generate data to a, b, c\n",
        "\n",
        "start = time.time()\n",
        "output = cpu_processing(a, b, c)\n",
        "stop = time.time()\n",
        "print(\"\\nCPU Processing time: {0} s\".format(round(stop-start, 3)))\n",
        "print(\"CPU output: \"+str(...))\n",
        "\n",
        "...\n",
        "\n",
        "blockSize = ...\n",
        "gridDim = ...\n",
        "print(\"Grid dimension: \"+str(gridDim))\n",
        "\n",
        "...\n",
        "\n",
        "gpu_processing(...)\n",
        "context.synchronize()\n",
        "\n",
        "...\n",
        "\n",
        "...\n",
        "\n",
        "a_gpu.free()\n",
        "b_gpu.free()\n",
        "c_gpu.free()\n",
        "dest_gpu.free()"
      ],
      "execution_count": null,
      "outputs": []
    },
    {
      "cell_type": "markdown",
      "metadata": {
        "id": "-NV9HnXscDWp"
      },
      "source": [
        "#Solution"
      ]
    },
    {
      "cell_type": "code",
      "metadata": {
        "id": "fYaDR9eycDW0",
        "colab": {
          "base_uri": "https://localhost:8080/"
        },
        "outputId": "f819aac2-0180-4ad0-bbb6-380211a6a46b"
      },
      "source": [
        "import time\n",
        "import pycuda.driver as cuda\n",
        "import pycuda.autoinit\n",
        "from pycuda.autoinit import context\n",
        "from pycuda.compiler import SourceModule\n",
        "import numpy\n",
        "import random\n",
        "\n",
        "from pycuda.compiler import SourceModule\n",
        "mod = SourceModule(\"\"\"\n",
        "__global__ void gpu_processing(int *Output, int *A, int *B, int *C)\n",
        "{\n",
        "  int index = blockIdx.x *blockDim.x + threadIdx.x;\n",
        "  \n",
        "  Output[index] = A[index]*C[index]-B[index];\n",
        "}\n",
        "\"\"\")\n",
        "\n",
        "def cpu_processing(A, B, C):\n",
        "  # Output = A * C - B\n",
        "  Output = numpy.zeros(numElements, dtype=numpy.int32)\n",
        "  for i in range(0,len(A)):\n",
        "    Output[i] = A[i]*C[i]-B[i]\n",
        "  return Output\n",
        "\n",
        "# matrix dimensions\n",
        "numElements = int(1e6)\n",
        "\n",
        "gpu_processing = mod.get_function(\"gpu_processing\")\n",
        "\n",
        "a = numpy.zeros(numElements, dtype=numpy.int32)\n",
        "b = numpy.zeros(numElements, dtype=numpy.int32)\n",
        "c = numpy.zeros(numElements, dtype=numpy.int32)\n",
        "\n",
        "for i in range(0, numElements):\n",
        "  a[i] = i+1\n",
        "  b[i] = i+1\n",
        "  c[i] = random.random()*100\n",
        "\n",
        "start = time.time()\n",
        "output = cpu_processing(a, b, c)\n",
        "stop = time.time()\n",
        "print(\"\\nCPU Processing time: {0} s\".format(round(stop-start, 3)))\n",
        "print(\"CPU output: \"+str(output[-10:]))\n",
        "\n",
        "dest = numpy.empty_like(a)\n",
        "\n",
        "a_gpu = cuda.mem_alloc(a.nbytes)\n",
        "b_gpu = cuda.mem_alloc(b.nbytes)\n",
        "c_gpu = cuda.mem_alloc(c.nbytes)\n",
        "dest_gpu = cuda.mem_alloc(dest.nbytes)\n",
        "\n",
        "cuda.memcpy_htod(a_gpu, a)\n",
        "cuda.memcpy_htod(b_gpu, b)\n",
        "cuda.memcpy_htod(c_gpu, c)\n",
        "\n",
        "blockSize = 256\n",
        "gridDim = int(numElements/blockSize + 1)\n",
        "print(\"Grid dimension: \"+str(gridDim))\n",
        "\n",
        "start = time.time()\n",
        "\n",
        "gpu_processing(dest_gpu, a_gpu, b_gpu, c_gpu, block=(blockSize,1,1), grid=(gridDim,1,1))\n",
        "context.synchronize()\n",
        "\n",
        "cuda.memcpy_dtoh(dest, dest_gpu)\n",
        "stop = time.time()\n",
        "print(\"\\nGPU Processing time: {0} s\".format(round(stop-start, 3)))\n",
        "print(\"GPU output: \"+str(dest[-10:]))\n",
        "\n",
        "a_gpu.free()\n",
        "b_gpu.free()\n",
        "c_gpu.free()\n",
        "dest_gpu.free()"
      ],
      "execution_count": 2,
      "outputs": [
        {
          "output_type": "stream",
          "name": "stdout",
          "text": [
            "\n",
            "CPU Processing time: 0.757 s\n",
            "CPU output: [31999712 53999568 58999587 22999862 68999655 36999852 53999838 54999890\n",
            " 14999985 35000000]\n",
            "Grid dimension: 3907\n",
            "\n",
            "GPU Processing time: 0.002 s\n",
            "GPU output: [31999712 53999568 58999587 22999862 68999655 36999852 53999838 54999890\n",
            " 14999985 35000000]\n"
          ]
        }
      ]
    }
  ]
}