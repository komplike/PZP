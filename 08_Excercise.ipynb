{
  "nbformat": 4,
  "nbformat_minor": 0,
  "metadata": {
    "colab": {
      "name": "08_Excercise.ipynb",
      "provenance": [],
      "collapsed_sections": []
    },
    "kernelspec": {
      "name": "python3",
      "display_name": "Python 3"
    }
  },
  "cells": [
    {
      "cell_type": "markdown",
      "metadata": {
        "id": "zYVZdRg4aWqF"
      },
      "source": [
        ""
      ]
    },
    {
      "cell_type": "markdown",
      "metadata": {
        "id": "kvD4HBMi0ohY"
      },
      "source": [
        "# Install Java, Spark, and Findspark\n",
        "This installs Apache Spark 3.0.1, Java 11, and [Findspark](https://github.com/minrk/findspark), a library that makes it easy for Python to find Spark."
      ]
    },
    {
      "cell_type": "code",
      "metadata": {
        "id": "fUhBhrGmyAvs",
        "outputId": "96759cb7-a05b-4487-bde9-a0725a93694f",
        "colab": {
          "base_uri": "https://localhost:8080/"
        }
      },
      "source": [
        "!apt-get install openjdk-11-jdk-headless -qq > /dev/null\n",
        "!wget http://www-eu.apache.org/dist/spark/spark-3.0.1/spark-3.0.1-bin-hadoop2.7.tgz\n",
        "!tar xf spark-3.0.1-bin-hadoop2.7.tgz\n",
        "!pip install findspark\n",
        "!pip install py4j\n",
        "import os\n",
        "os.environ[\"JAVA_HOME\"] = \"/usr/lib/jvm/java-11-openjdk-amd64\"\n",
        "os.environ[\"SPARK_HOME\"] = \"/content/spark-3.0.1-bin-hadoop2.7\"\n",
        "import findspark\n",
        "findspark.init()\n",
        "print(\"Initialization Finished.\")\n",
        "# !cat /proc/meminfo\n",
        "# !cat /proc/cpuinfo"
      ],
      "execution_count": 3,
      "outputs": [
        {
          "output_type": "stream",
          "text": [
            "--2020-11-12 15:20:06--  http://www-eu.apache.org/dist/spark/spark-3.0.1/spark-3.0.1-bin-hadoop2.7.tgz\n",
            "Resolving www-eu.apache.org (www-eu.apache.org)... 95.216.24.32, 2a01:4f9:2a:185f::2\n",
            "Connecting to www-eu.apache.org (www-eu.apache.org)|95.216.24.32|:80... connected.\n",
            "HTTP request sent, awaiting response... 302 Found\n",
            "Location: https://downloads.apache.org/spark/spark-3.0.1/spark-3.0.1-bin-hadoop2.7.tgz [following]\n",
            "--2020-11-12 15:20:07--  https://downloads.apache.org/spark/spark-3.0.1/spark-3.0.1-bin-hadoop2.7.tgz\n",
            "Resolving downloads.apache.org (downloads.apache.org)... 88.99.95.219, 2a01:4f8:10a:201a::2\n",
            "Connecting to downloads.apache.org (downloads.apache.org)|88.99.95.219|:443... connected.\n",
            "HTTP request sent, awaiting response... 200 OK\n",
            "Length: 219929956 (210M) [application/x-gzip]\n",
            "Saving to: ‘spark-3.0.1-bin-hadoop2.7.tgz’\n",
            "\n",
            "spark-3.0.1-bin-had 100%[===================>] 209.74M  19.2MB/s    in 12s     \n",
            "\n",
            "2020-11-12 15:20:19 (17.6 MB/s) - ‘spark-3.0.1-bin-hadoop2.7.tgz’ saved [219929956/219929956]\n",
            "\n",
            "Collecting findspark\n",
            "  Downloading https://files.pythonhosted.org/packages/fc/2d/2e39f9a023479ea798eed4351cd66f163ce61e00c717e03c37109f00c0f2/findspark-1.4.2-py2.py3-none-any.whl\n",
            "Installing collected packages: findspark\n",
            "Successfully installed findspark-1.4.2\n",
            "Collecting py4j\n",
            "\u001b[?25l  Downloading https://files.pythonhosted.org/packages/30/42/25ad191f311fcdb38b750d49de167abd535e37a144e730a80d7c439d1751/py4j-0.10.9.1-py2.py3-none-any.whl (198kB)\n",
            "\u001b[K     |████████████████████████████████| 204kB 8.7MB/s \n",
            "\u001b[?25hInstalling collected packages: py4j\n",
            "Successfully installed py4j-0.10.9.1\n",
            "Initialization Finished.\n"
          ],
          "name": "stdout"
        }
      ]
    },
    {
      "cell_type": "markdown",
      "metadata": {
        "id": "su6ffxh0NuvR"
      },
      "source": [
        "#Upload Files"
      ]
    },
    {
      "cell_type": "code",
      "metadata": {
        "id": "zSU363E936AR",
        "outputId": "1a00e4e3-7c84-4de2-fef3-2af2e1553b7c",
        "colab": {
          "resources": {
            "http://localhost:8080/nbextensions/google.colab/files.js": {
              "data": "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",
              "ok": true,
              "headers": [
                [
                  "content-type",
                  "application/javascript"
                ]
              ],
              "status": 200,
              "status_text": ""
            }
          },
          "base_uri": "https://localhost:8080/",
          "height": 73
        }
      },
      "source": [
        "from google.colab import files\n",
        "uploaded = files.upload()"
      ],
      "execution_count": 1,
      "outputs": [
        {
          "output_type": "display_data",
          "data": {
            "text/html": [
              "\n",
              "     <input type=\"file\" id=\"files-e46214ec-3537-437d-bc81-3c632eb03dbf\" name=\"files[]\" multiple disabled\n",
              "        style=\"border:none\" />\n",
              "     <output id=\"result-e46214ec-3537-437d-bc81-3c632eb03dbf\">\n",
              "      Upload widget is only available when the cell has been executed in the\n",
              "      current browser session. Please rerun this cell to enable.\n",
              "      </output>\n",
              "      <script src=\"/nbextensions/google.colab/files.js\"></script> "
            ],
            "text/plain": [
              "<IPython.core.display.HTML object>"
            ]
          },
          "metadata": {
            "tags": []
          }
        },
        {
          "output_type": "stream",
          "text": [
            "Saving skDat.txt to skDat.txt\n"
          ],
          "name": "stdout"
        }
      ]
    },
    {
      "cell_type": "code",
      "metadata": {
        "id": "PypPGUn3HIXv",
        "outputId": "1d1a8155-ca3a-4bff-8013-9d3251dd984e",
        "colab": {
          "base_uri": "https://localhost:8080/"
        }
      },
      "source": [
        "import os\n",
        "os.listdir('./')"
      ],
      "execution_count": 2,
      "outputs": [
        {
          "output_type": "execute_result",
          "data": {
            "text/plain": [
              "['.config', 'skDat.txt', 'sample_data']"
            ]
          },
          "metadata": {
            "tags": []
          },
          "execution_count": 2
        }
      ]
    },
    {
      "cell_type": "markdown",
      "metadata": {
        "id": "P_VNUUarXKGg"
      },
      "source": [
        "#Exercise"
      ]
    },
    {
      "cell_type": "code",
      "metadata": {
        "id": "8smDw7V8XQaD"
      },
      "source": [
        "# Create spark context\n",
        "from pyspark import SparkContext\n",
        "sc = SparkContext(master=\"local[*]\")"
      ],
      "execution_count": 5,
      "outputs": []
    },
    {
      "cell_type": "code",
      "metadata": {
        "id": "rruDY7ttCZ7l"
      },
      "source": [
        "Category\tName\tCompany Name\tAddress\tICO\tDIC\tIC DPH\tPhone\tCell Phone\tFAX\tE-MAIL\n",
        "Auta\tCoryn, s.r.o.\tCoryn, s.r.o.\tJesenna 8, 080 05 Presov\t36510645\t2022096439\tSK2022096439\t\t0905 330 979\t\tpredaj@coryn.sk\n",
        "Auta\tUH CAR, s.r.o.\tUH CAR, s.r.o.\tVelehradska 682, 686 01 Uherske Hradiste\t25512021\t\t\t+420 572 554 720\t+420 775 200 868\t+420 572 554 643\tprodej@citroenuh.cz\n",
        "Auta\tAutotrend - Fleet Services, s. r. o.\tAutotrend - Fleet Services, s. r. o.\tRoznavska  24, 821 04 Bratislava\t45352348\t2022960764\tSK2022960764\t02 / 482 126 20\t0905 903 948\t\trecepcia@autotrend.sk\n",
        "Auto moto\tAUTOSERVIS HOLIC\tENII, s.r.o.\tNaftarska 1553, 908 45 Gbely\t36276693\t2022080104\tSK2022080104\t\t\t\t\n",
        "Auto moto\tAUTOVIA, s.r.o.\tAUTOVIA, s.r.o.\tPribinova 25, 811 09 Bratislava\t35826398\t2020247306\t\t\t\t\t\n",
        "Auto moto/Auto moto - internetove obchody\tLcdobchod.sk\tAS Technologie, s.r.o.\tRacianska 2394/159, 831 54 Bratislava-Nove Mesto\t44822120\t2022853745\tSK2022853745\t\t0911 126 649\t\tinfo@astechnologie.sk\n",
        "Auto moto/Auto moto - internetove obchody\tAmilo.cz\tAMILO s.r.o.\tPrstne 526, 760 01 Zlin\t48529214\tCZ48529214\t\t+420 571 112 199\t+420 608 666 080\t\tamilo@amilo.cz\n",
        "Auto moto/Auto moto - internetove obchody\tAutodetail.sk\tBSE, s. r. o.\tKopcianska 20, 851 05 Bratislava\t44809808\t2022888945\tSK2022888945\t\t0918 998 999\t\tautodetail@autodetail.sk\n",
        "Auto moto/Auto moto - internetove obchody\tAutoelektrobb.sk\tLuboslav Boor\tTHK 5315/36, 974 04 Banska Bystrica\t41385390\t\t\t\t0907 339 925\t\tinfo@autoelektrobb.sk\n",
        "Auto moto/Auto moto - internetove obchody\tRedzone.sk\tJan Zbinovsky - ALFA\tMoskovska 27, 974 04 Banska Bystrica\t41382293\t1049356132\tSK1049356132\t\t0948 057 860\t\tredzone@redzone.sk"
      ],
      "execution_count": null,
      "outputs": []
    },
    {
      "cell_type": "code",
      "metadata": {
        "id": "J-QUt5sbVAea",
        "outputId": "50dc1573-6ae7-4b6e-ebde-87a8a39b859b",
        "colab": {
          "base_uri": "https://localhost:8080/"
        }
      },
      "source": [
        "lines=sc.textFile('skDat.txt')\n",
        "\n",
        "# map to lower case\n",
        "lines = lines.map(lambda line: .....)\n",
        "# print header\n",
        "print(lines.first())\n",
        "\n",
        "# remove header\n",
        "lines = lines.filter(lambda line: 'category' not in line.split('\\t')[0])\n",
        "\n",
        "# preprocess lines to get \"name, street, city, ID\"\n",
        "def preprocess(line):\n",
        "  try:\n",
        "    splits = line.split('\\t')\n",
        "    name = .....\n",
        "    ID = .....\n",
        "    address = .....\n",
        "    split_address = address.split(\",\")\n",
        "    street = .....\n",
        "    city = .....\n",
        "  except:\n",
        "    # if incorrect format return empty item\n",
        "      return []\n",
        "  return [name, street, city, ID]\n",
        "\n",
        "correct = lines.map(preprocess)\n",
        "\n",
        "# filter empty items\n",
        "correct = correct.filter(.....)\n",
        "print('\\nCompanies: ')\n",
        "for comp in correct.take(5):\n",
        "  print(comp)\n",
        "\n",
        "# Create pair (city, [name, street, city, ID]) according to cities and sort\n",
        "cities = correct.map(lambda x:(x[2], x)).sortByKey(True)\n",
        "\n",
        "# Counts of companies in cities\n",
        "comp_in_cities = cities.countByKey()\n",
        "print('\\nCities and their company count: ')\n",
        "for item in comp_in_cities.items():\n",
        "  (name, count) = item\n",
        "  if count > 50:\n",
        "    print(item)\n",
        "\n",
        "# Find all 'auto' companies in city 'bratislava'\n",
        "companies = cities.filter(.....)\n",
        "print('\\nCompanies in Bratislava: ')\n",
        "for comp in companies.collect():\n",
        "  print(comp)"
      ],
      "execution_count": 6,
      "outputs": [
        {
          "output_type": "stream",
          "text": [
            "Category\tName\tCompany Name\tAddress\tICO\tDIC\tIC DPH\tPhone\tCell Phone\tFAX\tE-MAIL\n",
            "['Category\\tName\\tCompany Name\\tAddress\\tICO\\tDIC\\tIC DPH\\tPhone\\tCell Phone\\tFAX\\tE-MAIL', 'Auta\\tCoryn, s.r.o.\\tCoryn, s.r.o.\\tJesenna 8, 080 05 Presov\\t36510645\\t2022096439\\tSK2022096439\\t\\t0905 330 979\\t\\tpredaj@coryn.sk', 'Auta\\tUH CAR, s.r.o.\\tUH CAR, s.r.o.\\tVelehradska 682, 686 01 Uherske Hradiste\\t25512021\\t\\t\\t+420 572 554 720\\t+420 775 200 868\\t+420 572 554 643\\tprodej@citroenuh.cz', 'Auta\\tAutotrend - Fleet Services, s. r. o.\\tAutotrend - Fleet Services, s. r. o.\\tRoznavska  24, 821 04 Bratislava\\t45352348\\t2022960764\\tSK2022960764\\t02 / 482 126 20\\t0905 903 948\\t\\trecepcia@autotrend.sk', 'Auto moto\\tAUTOSERVIS HOLIC\\tENII, s.r.o.\\tNaftarska 1553, 908 45 Gbely\\t36276693\\t2022080104\\tSK2022080104\\t\\t\\t\\t']\n"
          ],
          "name": "stdout"
        }
      ]
    },
    {
      "cell_type": "markdown",
      "metadata": {
        "id": "7jQftYnhXOUL"
      },
      "source": [
        "#Solution"
      ]
    },
    {
      "cell_type": "code",
      "metadata": {
        "id": "4waskyY-OTRn"
      },
      "source": [
        "# Create spark context\n",
        "from pyspark import SparkContext\n",
        "sc = SparkContext(master=\"local[*]\")"
      ],
      "execution_count": null,
      "outputs": []
    },
    {
      "cell_type": "code",
      "metadata": {
        "id": "2982-cyoXRa1",
        "outputId": "74094390-305f-436a-8b62-0f20e04383f7",
        "colab": {
          "base_uri": "https://localhost:8080/"
        }
      },
      "source": [
        "lines=sc.textFile('skDat.txt')\n",
        "\n",
        "# map to lower case\n",
        "lines = lines.map(lambda line: line.lower())\n",
        "# print header\n",
        "print(lines.first())\n",
        "\n",
        "# remove header\n",
        "lines = lines.filter(lambda line: 'category' not in line.split('\\t')[0])\n",
        "\n",
        "# preprocess lines to get \"name, street, city, ID\"\n",
        "def preprocess(line):\n",
        "  try:\n",
        "    splits = line.split('\\t')\n",
        "    name = splits[1]\n",
        "    ID = splits[4]\n",
        "    address = splits[3];\n",
        "    split_address = address.split(\",\")\n",
        "    street = split_address[0]\n",
        "    city = split_address[1][7:len(split_address[1])]\n",
        "  except:\n",
        "    # if incorrect format return empty item\n",
        "      return []\n",
        "  return [name, street, city, ID]\n",
        "\n",
        "correct = lines.map(preprocess)\n",
        "\n",
        "# filter empty items\n",
        "correct = correct.filter(lambda x: len(x) > 0)\n",
        "print('\\nCompanies: ')\n",
        "for comp in correct.take(5):\n",
        "  print(comp)\n",
        "\n",
        "# Create pair (city, [name, street, city, ID]) according to cities and sort\n",
        "cities = correct.map(lambda x:(x[2], x)).sortByKey(True)\n",
        "\n",
        "# Counts of companies in cities\n",
        "comp_in_cities = cities.countByKey()\n",
        "print('\\nCities and their company count: ')\n",
        "for item in comp_in_cities.items():\n",
        "  (name, count) = item\n",
        "  if count > 50:\n",
        "    print(item)\n",
        "\n",
        "# Find all 'auto' companies in city 'bratislava'\n",
        "companies = cities.filter(lambda x: ('bratislava' in x[0] and 'auto' in x[1][0]))\n",
        "print('\\nCompanies in Bratislava: ')\n",
        "for comp in companies.collect():\n",
        "  print(comp)"
      ],
      "execution_count": 10,
      "outputs": [
        {
          "output_type": "stream",
          "text": [
            "category\tname\tcompany name\taddress\tico\tdic\tic dph\tphone\tcell phone\tfax\te-mail\n",
            "\n",
            "Companies: \n",
            "['coryn, s.r.o.', 'jesenna 8', ' presov', '36510645']\n",
            "['uh car, s.r.o.', 'velehradska 682', ' uherske hradiste', '25512021']\n",
            "['autotrend - fleet services, s. r. o.', 'roznavska  24', ' bratislava', '45352348']\n",
            "['autoservis holic', 'naftarska 1553', ' gbely', '36276693']\n",
            "['autovia, s.r.o.', 'pribinova 25', ' bratislava', '35826398']\n",
            "\n",
            "Cities and their company count: \n",
            "(' presov', 83)\n",
            "(' bratislava', 533)\n",
            "(' banska bystrica', 118)\n",
            "(' martin', 60)\n",
            "(' kosice', 111)\n",
            "(' trnava', 69)\n",
            "(' zilina', 99)\n",
            "(' trencin', 92)\n",
            "(' nitra', 99)\n",
            "(' bratislava - stare mesto', 56)\n",
            "\n",
            "Companies in Bratislava: \n",
            "(' bratislava', ['autotrend - fleet services, s. r. o.', 'roznavska  24', ' bratislava', '45352348'])\n",
            "(' bratislava', ['autovia, s.r.o.', 'pribinova 25', ' bratislava', '35826398'])\n",
            "(' bratislava', ['autodetail.sk', 'kopcianska 20', ' bratislava', '44809808'])\n",
            "(' bratislava', ['autodiely-kovo.sk', 'stavitelska  7528', ' bratislava', '35863609'])\n",
            "(' bratislava', ['obchod.mrp.sk/autodelco', 'rajecka  36', ' bratislava', '35702168'])\n",
            "(' bratislava', ['a. berger autokozmetika, s.r.o.', 'bebravska 3/8965', ' bratislava', '35931680'])\n",
            "(' bratislava', ['carwash - autoumyvaren s. r. o.', 'ruzova dolina  7', ' bratislava', '44617747'])\n",
            "(' bratislava - cunovo', ['autocomfort, s. r. o.', 'hraniciarska  80/114', ' bratislava - cunovo', '46110895'])\n",
            "(' bratislava', ['dk auto, s. r. o.', 'bajkalska 13a', ' bratislava', '44300930'])\n",
            "(' bratislava', ['dd auto, s.r.o.', 'popradska 80', ' bratislava', '35734396'])\n",
            "(' bratislava', ['robson auto alarm, spol. s r.o.', 'pod rovnicami 710/3', ' bratislava', '35722096'])\n",
            "(' bratislava', ['autoeden', 'domove role 22', ' bratislava', '35967064'])\n",
            "(' bratislava', ['autoservis-m-auto, s. r. o.', 'sliacska  11559', ' bratislava', '45465312'])\n",
            "(' bratislava - petrzalka', ['robert schochmann - auto-test servis', 'rovniankova 2/a', ' bratislava - petrzalka', '11782269'])\n",
            "(' bratislava', ['atc, automatizacia technologickych celkov, spol. s r.o.', 'stara vajnorska 14', ' bratislava', '17334918'])\n",
            "(' bratislava-petrzalka', ['automodely.sk', 'viglasska 15', ' bratislava-petrzalka', '37414968'])\n"
          ],
          "name": "stdout"
        }
      ]
    }
  ]
}