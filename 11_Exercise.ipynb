{
  "nbformat": 4,
  "nbformat_minor": 0,
  "metadata": {
    "colab": {
      "name": "11_Exercise.ipynb",
      "provenance": [],
      "collapsed_sections": [
        "epBJHIO-Cf0t"
      ]
    },
    "kernelspec": {
      "name": "python3",
      "display_name": "Python 3"
    }
  },
  "cells": [
    {
      "cell_type": "markdown",
      "metadata": {
        "id": "kvD4HBMi0ohY"
      },
      "source": [
        "# Install Java, Spark, and Findspark\n",
        "This installs Apache Spark 3.0.1, Java 11, and [Findspark](https://github.com/minrk/findspark), a library that makes it easy for Python to find Spark."
      ]
    },
    {
      "cell_type": "code",
      "metadata": {
        "id": "fUhBhrGmyAvs",
        "colab": {
          "base_uri": "https://localhost:8080/"
        },
        "outputId": "0bc4da41-9d70-4beb-f52b-a87ad9440a73"
      },
      "source": [
        "!apt-get install openjdk-11-jdk-headless -qq > /dev/null\n",
        "!wget http://www-eu.apache.org/dist/spark/spark-3.0.1/spark-3.0.1-bin-hadoop2.7.tgz\n",
        "!tar xf spark-3.0.1-bin-hadoop2.7.tgz\n",
        "!pip install findspark\n",
        "!pip install py4j\n",
        "import os\n",
        "os.environ[\"JAVA_HOME\"] = \"/usr/lib/jvm/java-11-openjdk-amd64\"\n",
        "os.environ[\"SPARK_HOME\"] = \"/content/spark-3.0.1-bin-hadoop2.7\"\n",
        "import findspark\n",
        "findspark.init()\n",
        "print(\"Initialization Finished.\")\n",
        "#!cat /proc/meminfo\n",
        "#!cat /proc/cpuinfo"
      ],
      "execution_count": null,
      "outputs": [
        {
          "output_type": "stream",
          "text": [
            "--2020-11-10 22:35:02--  http://www-eu.apache.org/dist/spark/spark-3.0.1/spark-3.0.1-bin-hadoop2.7.tgz\n",
            "Resolving www-eu.apache.org (www-eu.apache.org)... 95.216.24.32, 2a01:4f9:2a:185f::2\n",
            "Connecting to www-eu.apache.org (www-eu.apache.org)|95.216.24.32|:80... connected.\n",
            "HTTP request sent, awaiting response... 302 Found\n",
            "Location: https://downloads.apache.org/spark/spark-3.0.1/spark-3.0.1-bin-hadoop2.7.tgz [following]\n",
            "--2020-11-10 22:35:02--  https://downloads.apache.org/spark/spark-3.0.1/spark-3.0.1-bin-hadoop2.7.tgz\n",
            "Resolving downloads.apache.org (downloads.apache.org)... 88.99.95.219, 2a01:4f8:10a:201a::2\n",
            "Connecting to downloads.apache.org (downloads.apache.org)|88.99.95.219|:443... connected.\n",
            "HTTP request sent, awaiting response... 200 OK\n",
            "Length: 219929956 (210M) [application/x-gzip]\n",
            "Saving to: ‘spark-3.0.1-bin-hadoop2.7.tgz’\n",
            "\n",
            "spark-3.0.1-bin-had 100%[===================>] 209.74M  9.94MB/s    in 22s     \n",
            "\n",
            "2020-11-10 22:35:25 (9.56 MB/s) - ‘spark-3.0.1-bin-hadoop2.7.tgz’ saved [219929956/219929956]\n",
            "\n",
            "Collecting findspark\n",
            "  Downloading https://files.pythonhosted.org/packages/fc/2d/2e39f9a023479ea798eed4351cd66f163ce61e00c717e03c37109f00c0f2/findspark-1.4.2-py2.py3-none-any.whl\n",
            "Installing collected packages: findspark\n",
            "Successfully installed findspark-1.4.2\n",
            "Collecting py4j\n",
            "\u001b[?25l  Downloading https://files.pythonhosted.org/packages/30/42/25ad191f311fcdb38b750d49de167abd535e37a144e730a80d7c439d1751/py4j-0.10.9.1-py2.py3-none-any.whl (198kB)\n",
            "\u001b[K     |████████████████████████████████| 204kB 2.6MB/s \n",
            "\u001b[?25hInstalling collected packages: py4j\n",
            "Successfully installed py4j-0.10.9.1\n",
            "Initialization Finished.\n"
          ],
          "name": "stdout"
        }
      ]
    },
    {
      "cell_type": "markdown",
      "metadata": {
        "id": "7y556PFwmrOJ"
      },
      "source": [
        "#Hold connection\n",
        "While not using sheet, you should start infinite loop function to hold session. If you want to execute another code, please interupt this function."
      ]
    },
    {
      "cell_type": "code",
      "metadata": {
        "id": "rDgSoFLBm_Oe"
      },
      "source": [
        "import time\n",
        "try:\n",
        "  while 1:\n",
        "    time.sleep(10)\n",
        "except:\n",
        "  pass"
      ],
      "execution_count": null,
      "outputs": []
    },
    {
      "cell_type": "markdown",
      "metadata": {
        "id": "_eK_FB_jc5tX"
      },
      "source": [
        "#Upload files"
      ]
    },
    {
      "cell_type": "code",
      "metadata": {
        "id": "vZN62ZZQHbqU",
        "colab": {
          "resources": {
            "http://localhost:8080/nbextensions/google.colab/files.js": {
              "data": "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",
              "ok": true,
              "headers": [
                [
                  "content-type",
                  "application/javascript"
                ]
              ],
              "status": 200,
              "status_text": ""
            }
          },
          "base_uri": "https://localhost:8080/",
          "height": 73
        },
        "outputId": "d82ad644-315d-45ce-b643-dec9365ebc3d"
      },
      "source": [
        "from google.colab import files\n",
        "uploaded = files.upload()"
      ],
      "execution_count": null,
      "outputs": [
        {
          "output_type": "display_data",
          "data": {
            "text/html": [
              "\n",
              "     <input type=\"file\" id=\"files-646ba722-5ce6-4a0e-8c0d-fc95be30a018\" name=\"files[]\" multiple disabled\n",
              "        style=\"border:none\" />\n",
              "     <output id=\"result-646ba722-5ce6-4a0e-8c0d-fc95be30a018\">\n",
              "      Upload widget is only available when the cell has been executed in the\n",
              "      current browser session. Please rerun this cell to enable.\n",
              "      </output>\n",
              "      <script src=\"/nbextensions/google.colab/files.js\"></script> "
            ],
            "text/plain": [
              "<IPython.core.display.HTML object>"
            ]
          },
          "metadata": {
            "tags": []
          }
        },
        {
          "output_type": "stream",
          "text": [
            "Saving cars.txt to cars.txt\n"
          ],
          "name": "stdout"
        }
      ]
    },
    {
      "cell_type": "markdown",
      "metadata": {
        "id": "_lc9zGQeepGP"
      },
      "source": [
        "#Generate random stream\n",
        "Generator generates car brand and number of cars sold"
      ]
    },
    {
      "cell_type": "code",
      "metadata": {
        "id": "KIEXhrbyeQL7",
        "colab": {
          "base_uri": "https://localhost:8080/"
        },
        "outputId": "f06eb330-1b04-40d8-9a23-90d5a018666a"
      },
      "source": [
        "import threading\n",
        "import random\n",
        "import socket\n",
        "import sys\n",
        "import time\n",
        "\n",
        "class WordGeneratorThread (threading.Thread):\n",
        "    def __init__(self):\n",
        "      threading.Thread.__init__(self)\n",
        "      self.is_running = True\n",
        "\n",
        "    def run(self):\n",
        "      file = open('cars.txt', 'r')\n",
        "      cars = file.readlines()\n",
        "\n",
        "      HOST = 'localhost'  # Standard loopback interface address (localhost)\n",
        "      PORT = 9999        # Port to listen on (non-privileged ports are > 1023)\n",
        "\n",
        "      with socket.socket(socket.AF_INET, socket.SOCK_STREAM) as s:\n",
        "          s.bind((HOST, PORT))\n",
        "          s.listen(5)\n",
        "          print('Words generator is listening')\n",
        "          while True:\n",
        "              conn, addr = s.accept()\n",
        "              conn.send((cars[random.randint(5, 8)].strip('\\n')+\"_\"+str(random.randint(1, 10))+\"\\n\").encode(\"utf-8\"))\n",
        "              conn.send((cars[random.randint(7, 11)].strip('\\n')+\"_\"+str(random.randint(1, 10))+\"\\n\").encode(\"utf-8\"))\n",
        "              conn.send((cars[random.randint(0, len(cars)-1)].strip('\\n')+\"_\"+str(random.randint(1, 10))+\"\\n\").encode(\"utf-8\"))\n",
        "              conn.close()\n",
        "              time.sleep(0.2)\n",
        "              if not self.is_running:\n",
        "                s.close()\n",
        "                break\n",
        "\n",
        "wordGeneratorThreadread = WordGeneratorThread()\n",
        "wordGeneratorThreadread.setDaemon(True)\n",
        "wordGeneratorThreadread.start()"
      ],
      "execution_count": null,
      "outputs": [
        {
          "output_type": "stream",
          "text": [
            "Words generator is listening\n"
          ],
          "name": "stdout"
        }
      ]
    },
    {
      "cell_type": "markdown",
      "metadata": {
        "id": "PFgWlaL5CaiX"
      },
      "source": [
        "#Exercise"
      ]
    },
    {
      "cell_type": "code",
      "metadata": {
        "id": "RutYbsdBCZxi"
      },
      "source": [
        "from pyspark import SparkContext\n",
        "from pyspark.streaming import StreamingContext\n",
        "sc = SparkContext(appName=\"Exercise\")\n",
        "\n",
        "\n",
        "# Start streaming context, batches each 5 seconds\n",
        "ssc = .....\n",
        "# connect to stream with format carBrand_numSoldCars - \"Volvo_5\"\n",
        "lines = .....\n",
        "# Map car brand and number of sold car to Pair by splitting input string\n",
        "pairs = lines. .....\n",
        "# Map pairs again and change number value of sold cars from string to int\n",
        "pairs = .....\n",
        "# Count numbers of sold cars for every brand\n",
        "wordCounts = pairs. .....\n",
        "# Update running counts\n",
        "runningCounts = wordCounts.updateStateByKey(.....)\n",
        "# If car count will increse 20, filter it and print stream\n",
        "filtered = runningCounts .....\n",
        "filtered.pprint()\n",
        "# If car count will be lower than 20, filter it and print stream\n",
        "finished = runningCounts. .....\n",
        "finished.pprint()\n",
        "\n",
        "# Set checkpoint and start\n",
        "ssc.checkpoint('checkpoint.data')\n",
        "ssc.start()\n",
        "ssc.awaitTermination()"
      ],
      "execution_count": null,
      "outputs": []
    },
    {
      "cell_type": "markdown",
      "metadata": {
        "id": "epBJHIO-Cf0t"
      },
      "source": [
        "#Solution"
      ]
    },
    {
      "cell_type": "code",
      "metadata": {
        "id": "MMZ10edlCh2a"
      },
      "source": [
        "from pyspark import SparkContext\n",
        "from pyspark.streaming import StreamingContext\n",
        "sc = SparkContext(appName=\"Exercise\")\n",
        "\n",
        "def updateFunction(newValues, runningCount):\n",
        "    if runningCount is None:\n",
        "        runningCount = 0\n",
        "    return sum(newValues, runningCount) \n",
        "\n",
        "# Start streaming context, batches each 5 seconds\n",
        "ssc = StreamingContext(sc, 5)\n",
        "# connect to stream with format carBrand_numSoldCars - \"Volvo_5\"\n",
        "lines = ssc.socketTextStream('localhost', 9999)\n",
        "# Map car brand and number of sold car to Pair by splitting input string\n",
        "pairs = lines.map(lambda line: (line.split(\"_\")))\n",
        "# Map pairs again and change number value of sold cars from string to int\n",
        "pairs = pairs.map(lambda pair: (pair[0], int(pair[1])))\n",
        "# Count numbers of sold cars for every brand\n",
        "wordCounts = pairs.reduceByKey(lambda x, y: x + y)\n",
        "# Update running counts\n",
        "runningCounts = wordCounts.updateStateByKey(updateFunction)\n",
        "# If car count will increse 20, filter it and print stream\n",
        "filtered = runningCounts.filter(lambda x: x[1]<20)\n",
        "filtered.pprint()\n",
        "# If car count will be lower than 20, filter it and print stream\n",
        "finished = runningCounts.filter(lambda x: x[1]>20)\n",
        "finished.pprint()\n",
        "\n",
        "# Set checkpoint and start\n",
        "ssc.checkpoint('checkpoint.data')\n",
        "ssc.start()\n",
        "ssc.awaitTermination()"
      ],
      "execution_count": null,
      "outputs": []
    },
    {
      "cell_type": "markdown",
      "metadata": {
        "id": "ujoHrI5Ad42Z"
      },
      "source": [
        "#Stop StreamingContext"
      ]
    },
    {
      "cell_type": "code",
      "metadata": {
        "id": "SAigrGAmggAL",
        "colab": {
          "base_uri": "https://localhost:8080/"
        },
        "outputId": "547e2ac9-087d-4f1f-a2e4-b61bacb9ce87"
      },
      "source": [
        "# Stop thread running in background\n",
        "# wordGeneratorThreadread.is_running = False\n",
        "# wordGeneratorThreadread.join()\n",
        "# if ('s' in globals()):\n",
        "#   s.close()\n",
        "#   del globals()['s']\n",
        "\n",
        "if ('ssc' in globals()):\n",
        "  ssc.stop()\n",
        "  del globals()['ssc']\n",
        "if ('wordBlacklist' in globals()):\n",
        "  del globals()['wordBlacklist']\n",
        "if ('droppedWordsCounter' in globals()):\n",
        "  del globals()['droppedWordsCounter']\n",
        "if ('query' in globals()):\n",
        "  query.stop()\n",
        "  del globals()['query']\n",
        "if ('spark' in globals()):\n",
        "  spark.stop()\n",
        "  del globals()['spark']"
      ],
      "execution_count": null,
      "outputs": [
        {
          "output_type": "stream",
          "text": [
            "-------------------------------------------\n",
            "Time: 2020-11-10 23:18:35\n",
            "-------------------------------------------\n",
            "('Ford', 10)\n",
            "('Seat', 1)\n",
            "('Peugeot', 17)\n",
            "('Volvo', 10)\n",
            "('Citroën', 9)\n",
            "('Nissan', 14)\n",
            "('Toyota', 12)\n",
            "('Škoda', 19)\n",
            "('Subaru', 5)\n",
            "\n",
            "-------------------------------------------\n",
            "Time: 2020-11-10 23:18:35\n",
            "-------------------------------------------\n",
            "('Land Rover', 65)\n",
            "('Porsche', 28)\n",
            "('Mercedes-Benz', 41)\n",
            "('Volkswagen', 23)\n",
            "('Jeep', 142)\n",
            "('Kia', 122)\n",
            "('Mazda', 95)\n",
            "('Honda', 136)\n",
            "('Audi', 24)\n",
            "('Hyundai', 78)\n",
            "...\n",
            "\n",
            "-------------------------------------------\n",
            "Time: 2020-11-10 23:18:40\n",
            "-------------------------------------------\n",
            "('Seat', 1)\n",
            "('Peugeot', 17)\n",
            "('Volvo', 10)\n",
            "('Citroën', 9)\n",
            "('Nissan', 14)\n",
            "('Toyota', 18)\n",
            "('Škoda', 19)\n",
            "('Subaru', 5)\n",
            "\n",
            "-------------------------------------------\n",
            "Time: 2020-11-10 23:18:40\n",
            "-------------------------------------------\n",
            "('Land Rover', 71)\n",
            "('Porsche', 28)\n",
            "('Mercedes-Benz', 46)\n",
            "('Volkswagen', 29)\n",
            "('Jeep', 142)\n",
            "('Kia', 154)\n",
            "('Mazda', 95)\n",
            "('Honda', 149)\n",
            "('Audi', 24)\n",
            "('Hyundai', 88)\n",
            "...\n",
            "\n"
          ],
          "name": "stdout"
        }
      ]
    }
  ]
}